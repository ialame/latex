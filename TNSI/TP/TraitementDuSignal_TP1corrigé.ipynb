{
 "cells":[
  {
   "cell_type":"markdown",
   "source":[
    "<h1 align=center><font color=red>TP1 Traitement du signal<\/font><\/h1>\n",
    "<h2 align=center>Ibrahim ALAME<\/h2>\n",
    "<h3 align=center>28\/03\/2022<\/h3>"
   ],
   "attachments":{
    
   },
   "metadata":{
    "datalore":{
     "node_id":"fellbJ6Dc0QhEVY2PNkq0h",
     "type":"MD",
     "hide_input_from_viewers":false,
     "hide_output_from_viewers":false,
     "report_properties":{
      "rowId":"RtpABBkJOLBp1iR2hLK6Ui"
     }
    }
   }
  },
  {
   "cell_type":"markdown",
   "source":[
    "La transformation de Fourier discrète (TFD), outil mathématique, sert à traiter un signal numérique. Elle constitue un équivalent discret de la transformation de Fourier (continue) utilisée pour traiter un signal analogique:\n",
    "\n",
    "Soit $(s_n)$ un signal discret périodique de période $N$. Sa transformation (TFD) est un signal discret périodique de même période $N$ défini par:\n",
    "$$\n",
    "{\\displaystyle S_p=\\frac 1N\\sum _{n=0}^{N-1}s_n\\mathrm {e} ^{-2\\mathrm {i} \\pi p{\\frac {n}{N}}}\\qquad {\\text{pour}}\\qquad p\\in\\mathbb{Z}}\n",
    "$$\n",
    "Sa transformation inverse est donnée par\n",
    "$$\n",
    "{\\displaystyle s(n)=\\sum _{p=0}^{N-1}S_p\\mathrm {e} ^{2\\mathrm {i} \\pi n{\\frac {p}{N}}}\\qquad {\\text{pour}}\\qquad n\\in \\mathbb{Z}}\n",
    "$$\n",
    "\n",
    "\n",
    "La transformation de Fourier rapide <B> fft<\/B>  est un algorithme particulier de calcul de la transformation de Fourier discrète:\n",
    "\n",
    "$$\\mbox {fft}(s)[p]=\\sum _{n=0}^{N-1}s_n\\mathrm {e} ^{-2\\mathrm {i} \\pi p{\\frac {n}{N}}}\\qquad {\\text{pour}}\\qquad 0\\leq p< N\n",
    "$$\n",
    "Sa transformation inverse <B>ifft<\/B> est donnée par:\n",
    "$$\n",
    "\\mbox {ifft}(S)[n]=\\frac 1N\\sum _{p=0}^{N-1}S_p\\mathrm {e} ^{2\\mathrm {i} \\pi n{\\frac {p}{N}}}\\qquad {\\text{pour}}\\qquad 0\\leq n< N\n",
    "$$\n",
    " \n",
    " Nous avons alors \n",
    "$$ S= \\frac 1N\\times \\mbox {fft}(s) \\quad\\mbox{ et }\\quad s= N\\times \\mbox {ifft}(S) $$\n",
    " \n",
    " ou bien \n",
    "$$ N\\times S= \\mbox {fft}(s) \\quad\\mbox{ et }\\quad s= \\mbox {ifft}(N\\times S) $$\n",
    "\n",
    "En python:\n",
    "<ul>\n",
    "<li> La fonction <B>fft(signal)<\/B> du paquetage <B>numpy.fft<\/B> renvoie à un coefficient de normalisation $\\frac 1N$ près, la transformée de Fourier discrète d'un signal à une dimension éventuellement complexe. La fonction abs de <B>numpy<\/B> renvoie le module d'un tableau de complexes. Sa réciproque à un coefficient multiplicatif $N$ près est la fonction  <B>ifft(signal)<\/B> du mêm paquetage <B>numpy.fft<\/B>.\n",
    "<li>  La fonction <B>fftfreq(N, d)<\/B> de la bibliothèque <B>numpy.fft<\/B> renvoie un tableau contenant les fréquences associées à la transformée de Fourier pour un signal contenant $N$ échantillons espacés d'un intervalle $d$($d$ est la période d'échantillonnage noté $T_e$). \n",
    "<li>  La fonction <B>fftshift(X)<\/B> de <B>numpy.fft<\/B> associe à la restriction $X_{\/[0,N-1]}$ d'un signal $N$-périodique, la restriction $X_{\/[-\\frac N2,\\frac N2-1]}$ du même signal $X$.\n",
    "<\/ul>"
   ],
   "attachments":{
    
   },
   "metadata":{
    "datalore":{
     "node_id":"SpWrtBAEhIr0SAQxatS3h2",
     "type":"MD",
     "hide_input_from_viewers":false,
     "hide_output_from_viewers":false,
     "report_properties":{
      "rowId":"RtpABBkJOLBp1iR2hLK6Ui"
     }
    }
   }
  },
  {
   "cell_type":"markdown",
   "source":[
    "# Transformation de Fourier discrète (TFD)\n",
    "Soit $x=(x_n)$ un signal 4-périodique qui coïncide sur l'intervalle $[0,3]$ avec la liste $[1,1,0,1]$.\n",
    "<ol>\n",
    "<li> Tracer $x$ sur $[-10,10]$.\n",
    "\n",
    "<\/ol>"
   ],
   "attachments":{
    
   },
   "metadata":{
    "datalore":{
     "node_id":"aYtwJg47cJKifLkdYyNpZW",
     "type":"MD",
     "hide_input_from_viewers":false,
     "hide_output_from_viewers":false,
     "report_properties":{
      "rowId":"RtpABBkJOLBp1iR2hLK6Ui"
     }
    }
   }
  },
  {
   "cell_type":"code",
   "source":[
    "import numpy as np\n",
    "import matplotlib.pyplot as plt\n",
    "\n",
    "t=np.arange(4)\n",
    "x=[1,1,0,1]\n",
    "plt.stem(t,x)\n",
    "plt.show()"
   ],
   "execution_count":null,
   "outputs":[
    {
     "data":{
      "image\/png":"[encoded data removed]"
     },
     "metadata":{
      "image\/png":{
       
      }
     },
     "output_type":"display_data"
    }
   ],
   "metadata":{
    "datalore":{
     "node_id":"OtdUAE8wqiihNLywYKtJl5",
     "type":"CODE",
     "hide_input_from_viewers":false,
     "hide_output_from_viewers":false,
     "report_properties":{
      "rowId":"RtpABBkJOLBp1iR2hLK6Ui"
     }
    }
   }
  },
  {
   "cell_type":"code",
   "source":[
    "N=4\n",
    "t=np.arange(-2,2,1)\n",
    "x=[1,1,0,1]\n",
    "t=range(-10,11)\n",
    "plt.stem(t,[x[k % N] for k in t])\n",
    "plt.show()"
   ],
   "execution_count":null,
   "outputs":[
    {
     "data":{
      "image\/png":"[encoded data removed]"
     },
     "metadata":{
      "image\/png":{
       
      }
     },
     "output_type":"display_data"
    }
   ],
   "metadata":{
    "datalore":{
     "node_id":"fLVUFzK3AJwy7FGl479Il0",
     "type":"CODE",
     "hide_input_from_viewers":false,
     "hide_output_from_viewers":false,
     "report_properties":{
      "rowId":"RtpABBkJOLBp1iR2hLK6Ui"
     }
    }
   }
  },
  {
   "cell_type":"markdown",
   "source":[
    "<ol start=2>\n",
    "<li> Calculer analytiquement sa transformée de Fourier discrète $X$.\n",
    "<\/ol>"
   ],
   "attachments":{
    
   },
   "metadata":{
    "datalore":{
     "node_id":"tWKmXmBSzqIdXXIknoawKM",
     "type":"MD",
     "hide_input_from_viewers":false,
     "hide_output_from_viewers":false,
     "report_properties":{
      "rowId":"RtpABBkJOLBp1iR2hLK6Ui"
     }
    }
   }
  },
  {
   "cell_type":"markdown",
   "source":[
    "On a \n",
    "$$X_p=\\frac 1N\\sum_{n=0}^{N-1}x_ne^{-2 i \\pi p\\frac{n}{N}} =\\frac 14\\sum_{n=0}^{3}x_ne^{-2 i \\pi p\\frac{n}{4}} =\\frac 14\\sum_{n=0}^{3}x_n\\omega^{-pn} \\quad \\mbox{ où }\\quad \\omega =e^{\\frac{2 i \\pi }{4}} =i $$\n",
    "$$X_0=\\frac 14\\sum_{n=0}^{3}x_n=\\frac 34$$\n",
    "$$X_1=\\frac 14\\sum_{n=0}^{3}x_ni^{-n}=\\frac 14(1-i+0+i)=\\frac 14$$\n",
    "$$X_2=\\frac 14\\sum_{n=0}^{3}x_ni^{-2n}=\\frac 14\\sum_{n=0}^{3}x_n(-1)^{n}=\\frac 14(1-1+0-1)=-\\frac 14$$\n",
    "$$X_3=\\frac 14\\sum_{n=0}^{3}x_ni^{-3n}=\\frac 14\\sum_{n=0}^{3}x_ni^{n}=\\frac 14(1+i+0-i)=\\frac 14$$\n",
    "Donc $X$ coïncide sur l'intervalle $[0,3]$ avec la liste $[\\frac 34,\\frac 14,-\\frac 14,\\frac 14]$."
   ],
   "attachments":{
    
   },
   "metadata":{
    "datalore":{
     "node_id":"A3jevhV5SDuRr0iiI2WQ9d",
     "type":"MD",
     "hide_input_from_viewers":false,
     "hide_output_from_viewers":false,
     "report_properties":{
      "rowId":"RtpABBkJOLBp1iR2hLK6Ui"
     }
    }
   }
  },
  {
   "cell_type":"markdown",
   "source":[
    "<ol start=2>\n",
    "<li> Calculer python sa transformée de Fourier discrète $X$.\n",
    "<\/ol>"
   ],
   "attachments":{
    
   },
   "metadata":{
    "datalore":{
     "node_id":"2TWtxQeBHoj1HQmnMoiHrk",
     "type":"MD",
     "hide_input_from_viewers":false,
     "hide_output_from_viewers":false,
     "report_properties":{
      "rowId":"RtpABBkJOLBp1iR2hLK6Ui"
     }
    }
   }
  },
  {
   "cell_type":"code",
   "source":[
    "X = np.fft.fft(x)\/N\n",
    "print(\"X=\",X)"
   ],
   "execution_count":null,
   "outputs":[
    {
     "name":"stdout",
     "text":[
      "X= [ 0.75+0.j  0.25+0.j -0.25+0.j  0.25+0.j]\n"
     ],
     "output_type":"stream"
    }
   ],
   "metadata":{
    "datalore":{
     "node_id":"wLczQufwzbPEyn6boi207Y",
     "type":"CODE",
     "hide_input_from_viewers":false,
     "hide_output_from_viewers":false,
     "report_properties":{
      "rowId":"RtpABBkJOLBp1iR2hLK6Ui"
     }
    }
   }
  },
  {
   "cell_type":"markdown",
   "source":[
    "<ol start=3>\n",
    "<li> Calculer par la formule de la définition puis par python $\\mathcal{F}^{-1}(X)$.\n",
    "<\/ol>"
   ],
   "attachments":{
    
   },
   "metadata":{
    "datalore":{
     "node_id":"mrtiVmf9URsX8fDAVRjWCH",
     "type":"MD",
     "hide_input_from_viewers":false,
     "hide_output_from_viewers":false,
     "report_properties":{
      "rowId":"RtpABBkJOLBp1iR2hLK6Ui"
     }
    }
   }
  },
  {
   "cell_type":"markdown",
   "source":[
    "On a $$x_n=\\sum_{p=0}^{N-1}X_pe^{2 i \\pi n\\frac{p}{N}} = \\sum_{p=0}^{3}X_pe^{2 i \\pi p\\frac{n}{4}} =\\sum_{n=0}^{3}X_pi^{pn} $$\n",
    "$$X_0=\\sum_{p=0}^{3}X_p=1$$\n",
    "$$X_1=\\sum_{p=0}^{3}X_pi^{p}=(\\frac 34+\\frac 14i+\\frac 14-\\frac 14i)=1$$\n",
    "$$X_2=\\sum_{p=0}^{3}x_pi^{2p}=\\sum_{n=0}^{3}X_p(-1)^{p}=(\\frac 34-\\frac 14-\\frac 14-\\frac 14)=0$$\n",
    "$$X_3=\\sum_{p=0}^{3}x_pi^{3p}=\\sum_{p=0}^{3}X_p(-i)^{p}=(\\frac 34-\\frac 14i+\\frac 14+\\frac 14i)=1$$\n",
    "Donc $\\mathcal{F}^{-1}(X)$ coïncide bien sur l'intervalle $[0,3]$ avec la liste $[1,1,0,1]$."
   ],
   "attachments":{
    
   },
   "metadata":{
    "datalore":{
     "node_id":"YJDicLyIMoSuTKakscvkMD",
     "type":"MD",
     "hide_input_from_viewers":false,
     "hide_output_from_viewers":false,
     "report_properties":{
      "rowId":"RtpABBkJOLBp1iR2hLK6Ui"
     }
    }
   }
  },
  {
   "cell_type":"code",
   "source":[
    "xprim = np.fft.ifft(X)*N\n",
    "print(\"xp=\",xprim)"
   ],
   "execution_count":null,
   "outputs":[
    {
     "name":"stdout",
     "text":[
      "xp= [1.+0.j 1.+0.j 0.+0.j 1.+0.j]\n"
     ],
     "output_type":"stream"
    }
   ],
   "metadata":{
    "datalore":{
     "node_id":"Euum1tzgHz1rLKpU7MfZUw",
     "type":"CODE",
     "hide_input_from_viewers":false,
     "hide_output_from_viewers":false,
     "report_properties":{
      "rowId":"RtpABBkJOLBp1iR2hLK6Ui"
     }
    }
   }
  },
  {
   "cell_type":"markdown",
   "source":[
    "<ol start=4>\n",
    "<li> Tracer $X$ sur un intervalle de fréquence convenable.\n",
    "<\/ol>"
   ],
   "attachments":{
    
   },
   "metadata":{
    "datalore":{
     "node_id":"q6g3fBWLgBvEygylVw4b8I",
     "type":"MD",
     "hide_input_from_viewers":false,
     "hide_output_from_viewers":false,
     "report_properties":{
      "rowId":"RtpABBkJOLBp1iR2hLK6Ui"
     }
    }
   }
  },
  {
   "cell_type":"code",
   "source":[
    "f=np.fft.fftfreq(4,1)\n",
    "plt.stem(f,np.real(X))\n",
    "plt.show()"
   ],
   "execution_count":null,
   "outputs":[
    {
     "data":{
      "image\/png":"[encoded data removed]"
     },
     "metadata":{
      "image\/png":{
       
      }
     },
     "output_type":"display_data"
    }
   ],
   "metadata":{
    "datalore":{
     "node_id":"Ed2KKwb2jFI4ZMAO2BS3pp",
     "type":"CODE",
     "hide_input_from_viewers":false,
     "hide_output_from_viewers":false,
     "report_properties":{
      "rowId":"RtpABBkJOLBp1iR2hLK6Ui"
     }
    }
   }
  },
  {
   "cell_type":"code",
   "source":[
    "# On peut aussi représenter le spectre X sur un intervalle plus large en complétant par périodicité:\n",
    "freq=np.arange(-5,5,1\/4)\n",
    "n=len(freq)\n",
    "plt.stem(freq,[np.real(X[k % N]) for k in range(-n\/\/2,n\/\/2)])\n",
    "plt.show()"
   ],
   "execution_count":null,
   "outputs":[
    {
     "data":{
      "image\/png":"[encoded data removed]"
     },
     "metadata":{
      "image\/png":{
       
      }
     },
     "output_type":"display_data"
    }
   ],
   "metadata":{
    "datalore":{
     "node_id":"dDNxGrkvmuhSFNdygZpHfo",
     "type":"CODE",
     "hide_input_from_viewers":false,
     "hide_output_from_viewers":false,
     "report_properties":{
      "rowId":"RtpABBkJOLBp1iR2hLK6Ui"
     }
    }
   }
  },
  {
   "cell_type":"markdown",
   "source":[
    "<ol start=5>\n",
    "<li> Soit $y=(y_n)$ un signal défini par $y_n=x_{n-1}$ pour tout $n\\in \\mathbb{Z}$. Calculer par trois méthodes le spectre $Y=\\mathcal{F}(y)$ transformation de Fourier de $y$.\n",
    "<\/ol>"
   ],
   "attachments":{
    
   },
   "metadata":{
    "datalore":{
     "node_id":"1UD3uZmTBaX9B26Xjt1dcd",
     "type":"MD",
     "hide_input_from_viewers":false,
     "hide_output_from_viewers":false,
     "report_properties":{
      "rowId":"RtpABBkJOLBp1iR2hLK6Ui"
     }
    }
   }
  },
  {
   "cell_type":"markdown",
   "source":[
    "Première méthode par la formule de définition:\n",
    "\n",
    "On a \n",
    "$$Y_p=\\frac 1N\\sum_{n=0}^{N-1}y_ne^{-2 i \\pi p\\frac{n}{N}} =\\frac 14\\sum_{n=0}^{3}y_ne^{-2 i \\pi p\\frac{n}{4}} =\\frac 14\\sum_{n=0}^{3}y_ni^{-pn} $$\n",
    "$$Y_0=\\frac 14\\sum_{n=0}^{3}y_n=\\frac 34$$\n",
    "$$Y_1=\\frac 14\\sum_{n=0}^{3}y_ni^{-n}=\\frac 14(1-i-1+0)=-\\frac i4$$\n",
    "$$X_2=\\frac 14\\sum_{n=0}^{3}y_ni^{-2n}=\\frac 14\\sum_{n=0}^{3}y_n(-1)^{n}=\\frac 14(1-1+1+0)=-\\frac 14$$\n",
    "$$X_3=\\frac 14\\sum_{n=0}^{3}x_ni^{-3n}=\\frac 14\\sum_{n=0}^{3}x_ni^{n}=\\frac 14(1+i-1+0)=\\frac i4$$\n",
    "Donc $X$ coïncide sur l'intervalle $[0,3]$ avec la liste $[\\frac 34,-\\frac i4,-\\frac 14,\\frac i4]$."
   ],
   "attachments":{
    
   },
   "metadata":{
    "datalore":{
     "node_id":"prPZVqid9nKp0OC8NhxM25",
     "type":"MD",
     "hide_input_from_viewers":false,
     "hide_output_from_viewers":false,
     "report_properties":{
      "rowId":"RtpABBkJOLBp1iR2hLK6Ui"
     }
    }
   }
  },
  {
   "cell_type":"code",
   "source":[
    "# Deuxième méthode par fft\n",
    "y=[1,1,1,0]\n",
    "Y = np.fft.fft(y)\/N\n",
    "print(\"Y=\",Y)"
   ],
   "execution_count":null,
   "outputs":[
    {
     "name":"stdout",
     "text":[
      "Y= [0.75+0.j   0.  -0.25j 0.25+0.j   0.  +0.25j]\n"
     ],
     "output_type":"stream"
    }
   ],
   "metadata":{
    "datalore":{
     "node_id":"P37QBcjjK5MykvmPjOaEYc",
     "type":"CODE",
     "hide_input_from_viewers":false,
     "hide_output_from_viewers":false,
     "report_properties":{
      "rowId":"RtpABBkJOLBp1iR2hLK6Ui"
     }
    }
   }
  },
  {
   "cell_type":"markdown",
   "source":[
    "Troisième méthode: On applique le théorème\n",
    "$$ \\mathcal{F}(Y)=e^{-2i\\pi\\frac pN}\\mathcal{F}(X) \\Longrightarrow Y_p=i^{-p} X_p$$\n",
    "\n",
    "$$Y_0=X_0=\\frac 34$$\n",
    "$$Y_1=-iX_1=-\\frac i4$$\n",
    "$$Y_2=-X_2=\\frac 14$$\n",
    "$$Y_3=iX_3=\\frac i4$$"
   ],
   "attachments":{
    
   },
   "metadata":{
    "datalore":{
     "node_id":"yDkKU5S1WLqn893er7Vl5u",
     "type":"MD",
     "hide_input_from_viewers":false,
     "hide_output_from_viewers":false,
     "report_properties":{
      "rowId":"RtpABBkJOLBp1iR2hLK6Ui"
     }
    }
   }
  },
  {
   "cell_type":"markdown",
   "source":[
    "<ol start=6>\n",
    "<li> Tracer sur deux graphiques $y$ et $Y$.\n",
    "<\/ol>"
   ],
   "attachments":{
    
   },
   "metadata":{
    "datalore":{
     "node_id":"b5OMfNn5cO74UkkNIc0HDO",
     "type":"MD",
     "hide_input_from_viewers":false,
     "hide_output_from_viewers":false,
     "report_properties":{
      "rowId":"RtpABBkJOLBp1iR2hLK6Ui"
     }
    }
   }
  },
  {
   "cell_type":"code",
   "source":[
    "t=np.arange(4)\n",
    "y=[1,1,0,1]\n",
    "plt.stem(t,y)\n",
    "plt.show()"
   ],
   "execution_count":null,
   "outputs":[
    {
     "data":{
      "image\/png":"[encoded data removed]"
     },
     "metadata":{
      "image\/png":{
       
      }
     },
     "output_type":"display_data"
    }
   ],
   "metadata":{
    "datalore":{
     "node_id":"9x718xSws8QnZJJtXDNjMx",
     "type":"CODE",
     "hide_input_from_viewers":false,
     "hide_output_from_viewers":false,
     "report_properties":{
      "rowId":"RtpABBkJOLBp1iR2hLK6Ui"
     }
    }
   }
  },
  {
   "cell_type":"code",
   "source":[
    "f=np.fft.fftfreq(4,1)\n",
    "plt.stem(f,np.abs(Y))\n",
    "plt.show()"
   ],
   "execution_count":null,
   "outputs":[
    {
     "data":{
      "image\/png":"[encoded data removed]"
     },
     "metadata":{
      "image\/png":{
       
      }
     },
     "output_type":"display_data"
    }
   ],
   "metadata":{
    "datalore":{
     "node_id":"YB9DceUK0fHrYrFvupw76N",
     "type":"CODE",
     "hide_input_from_viewers":false,
     "hide_output_from_viewers":false,
     "report_properties":{
      "rowId":"RtpABBkJOLBp1iR2hLK6Ui"
     }
    }
   }
  },
  {
   "cell_type":"markdown",
   "source":[
    "# Transformation de Fourier\n",
    "## Calcul analytique\n",
    "Soit $x$ le signal continu défini par $x(t)=e^{-|t|}$.\n",
    "<ol>\n",
    "<li> Montrer que la transformation de Fourier de $x$ s'écrit pour $f\\in\\mathbb{R}$: $ \\hat x(f)=\\frac{2}{1+4\\pi^2f^2}$\n",
    "<\/ol>"
   ],
   "attachments":{
    
   },
   "metadata":{
    "datalore":{
     "node_id":"4wu3UTjKFhmK8GoPzI72dc",
     "type":"MD",
     "hide_input_from_viewers":false,
     "hide_output_from_viewers":false,
     "report_properties":{
      "rowId":"RtpABBkJOLBp1iR2hLK6Ui"
     }
    }
   }
  },
  {
   "cell_type":"markdown",
   "source":[
    "On a par définition :\n",
    "\n",
    "$$X(f)=\\int_{-\\infty}^{\\infty}e^{-|t|}e^{-2i\\pi f t}\\, d t=\\int_{-\\infty}^{\\infty}e^{- |t|}\\cos 2\\pi f t\\, d t+i\\int_{-\\infty}^{\\infty}e^{- |t|}\\sin 2\\pi f t\\, d t$$\n",
    "\n",
    "$$ X(f)=\\int_{-\\infty}^{\\infty}e^{- |t|}\\cos 2\\pi f t\\, d t=2\\int_{0}^{\\infty}e^{- t}\\cos 2\\pi f t\\, d t$$\n",
    "$$ X(f)=2\\textbf{Re}\\int_{0}^{\\infty}e^{-(1-2i\\pi f) t}\\, d t = 2\\textbf{Re}\\frac{1}{1-2i\\pi f}=2\\textbf{Re}\\frac{1+2i\\pi f}{1 +4\\pi^2 f^2}$$\n",
    "$$ X(f)=\\frac{2}{1+4\\pi^2f^2}$$"
   ],
   "attachments":{
    
   },
   "metadata":{
    "datalore":{
     "node_id":"SG5sAeF2vuCFwWV5kLnLSI",
     "type":"MD",
     "hide_input_from_viewers":false,
     "hide_output_from_viewers":false,
     "report_properties":{
      "rowId":"RtpABBkJOLBp1iR2hLK6Ui"
     }
    }
   }
  },
  {
   "cell_type":"markdown",
   "source":[
    "<ol start=2>\n",
    "<li > En déduire que la transformation de Fourier de $s:t\\mapsto e^{-|t|}\\cos(2\\pi t)$ est donnée par:\n",
    "\\[\\hat s:f\\mapsto \\frac{1}{1+4\\pi^2(f-1)^2}+\\frac{1}{1+4\\pi^2(f+1)^2}\\]\n",
    "<\/ol>"
   ],
   "attachments":{
    
   },
   "metadata":{
    "datalore":{
     "node_id":"7TBmo7vxiJloRWTkynJCSN",
     "type":"MD",
     "hide_input_from_viewers":false,
     "hide_output_from_viewers":false,
     "report_properties":{
      "rowId":"RtpABBkJOLBp1iR2hLK6Ui"
     }
    }
   }
  },
  {
   "cell_type":"markdown",
   "source":[
    "$$\\mathcal{F}(e^{-|t|}\\cos(2\\pi t))=\\mathcal{F}\\left(e^{-|t|}\\frac{e^{2i\\pi t}+e^{-2i\\pi t}}{2}\\right)=\\frac 12\\left[\\mathcal{F}\\left(e^{-|t|}e^{2i\\pi t}\\right)+\\mathcal{F}\\left(e^{-|t|}e^{-2i\\pi t}\\right)\\right]=\\frac 12\\left[X(f-1)+X(f+1)\\right]$$"
   ],
   "attachments":{
    
   },
   "metadata":{
    "datalore":{
     "node_id":"RCihuU8FjU3pCp2qB7ItsW",
     "type":"MD",
     "hide_input_from_viewers":false,
     "hide_output_from_viewers":false,
     "report_properties":{
      "rowId":"RtpABBkJOLBp1iR2hLK6Ui"
     }
    }
   }
  },
  {
   "cell_type":"markdown",
   "source":[
    "<ol start=3>\n",
    "<li> Tracer $s$ et $\\hat s$. On considère le signal $s$ sur l'intervalle $[-6,6]$. Calculer sa FFT et comparer avec ce qui précède.\n",
    "<\/ol>"
   ],
   "attachments":{
    
   },
   "metadata":{
    "datalore":{
     "node_id":"Rre1nizZLEPnpay0P4Gced",
     "type":"MD",
     "hide_input_from_viewers":false,
     "hide_output_from_viewers":false,
     "report_properties":{
      "rowId":"RtpABBkJOLBp1iR2hLK6Ui"
     }
    }
   }
  },
  {
   "cell_type":"code",
   "source":[
    "\n",
    "pi=np.pi\n",
    "def s(t):\n",
    "    return np.exp(-np.abs(t))*np.cos(2*pi*t)\n",
    "def S(f):\n",
    "    return 1\/(1+4*np.pi**2*(f-1)**2)+1\/(1+4*np.pi**2*(f+1)**2)\n",
    "\n",
    "f=np.arange(-5,5,0.1)\n",
    "plt.plot(f,S(f))\n",
    "plt.show()"
   ],
   "execution_count":null,
   "outputs":[
    {
     "data":{
      "image\/png":"[encoded data removed]"
     },
     "metadata":{
      "image\/png":{
       
      }
     },
     "output_type":"display_data"
    }
   ],
   "metadata":{
    "datalore":{
     "node_id":"pzQSzBbnG5kqVImnqdfUtO",
     "type":"CODE",
     "hide_input_from_viewers":false,
     "hide_output_from_viewers":false,
     "report_properties":{
      "rowId":"RtpABBkJOLBp1iR2hLK6Ui"
     }
    }
   }
  },
  {
   "cell_type":"code",
   "source":[
    "Te=0.1\n",
    "t=np.arange(-6,6,Te)\n",
    "N=len(t)-1\n",
    "y=np.fft.fftshift(s(t))\n",
    "Y=np.fft.fft(y)*Te\n",
    "freq = np.fft.fftfreq(N+1,Te)\n",
    "plt.plot(freq,Y,color='b')\n",
    "plt.plot(freq,S(freq),color='r')\n",
    "plt.show()"
   ],
   "execution_count":null,
   "outputs":[
    {
     "name":"stdout",
     "text":[
      "\n"
     ],
     "output_type":"stream"
    },
    {
     "name":"stderr",
     "text":[
      "\/opt\/python\/envs\/default\/lib\/python3.8\/site-packages\/matplotlib\/cbook\/__init__.py:1298: ComplexWarning: Casting complex values to real discards the imaginary part\n",
      "  return np.asarray(x, float)\n",
      "\n"
     ],
     "output_type":"stream"
    },
    {
     "data":{
      "image\/png":"[encoded data removed]"
     },
     "metadata":{
      "image\/png":{
       
      }
     },
     "output_type":"display_data"
    }
   ],
   "metadata":{
    "datalore":{
     "node_id":"56cGZkpbFugVKbqYZ5Q4R8",
     "type":"CODE",
     "hide_input_from_viewers":false,
     "hide_output_from_viewers":false,
     "report_properties":{
      "rowId":"RtpABBkJOLBp1iR2hLK6Ui"
     }
    }
   }
  },
  {
   "cell_type":"markdown",
   "source":[
    "# Signal périodique\n",
    "Considérer le signal $x$ suivant: $t\\mapsto x(t)=2\\cos(4\\pi t)+3\\cos(8\\pi t)$\n",
    "<ol>\n",
    "<li> Quelle est sa période que l'on note $T$?\n",
    "<\/ol>"
   ],
   "attachments":{
    
   },
   "metadata":{
    "datalore":{
     "node_id":"80k8bBwAKN4vJ6NIGMacKj",
     "type":"MD",
     "hide_input_from_viewers":false,
     "hide_output_from_viewers":false,
     "report_properties":{
      "rowId":"RtpABBkJOLBp1iR2hLK6Ui"
     }
    }
   }
  },
  {
   "cell_type":"markdown",
   "source":[
    "$$T=\\frac 12$$"
   ],
   "attachments":{
    
   },
   "metadata":{
    "datalore":{
     "node_id":"5mYHDjHLn3Q3n8YtayNqwB",
     "type":"MD",
     "hide_input_from_viewers":false,
     "hide_output_from_viewers":false,
     "report_properties":{
      "rowId":"RtpABBkJOLBp1iR2hLK6Ui"
     }
    }
   }
  },
  {
   "cell_type":"markdown",
   "source":[
    "<ol start=2>\n",
    "<li> Écrire le signal $x(t)$ sous forme exponentielle (formule d'Euler!). En déduire les coefficients de Fourier de $x(t)$. \n",
    "<\/ol>"
   ],
   "attachments":{
    
   },
   "metadata":{
    "datalore":{
     "node_id":"wuGTjJkgj2jb8wWLKv2Y9E",
     "type":"MD",
     "hide_input_from_viewers":false,
     "hide_output_from_viewers":false,
     "report_properties":{
      "rowId":"RtpABBkJOLBp1iR2hLK6Ui"
     }
    }
   }
  },
  {
   "cell_type":"markdown",
   "source":[
    "$$ x(t) = \\frac 32 e^{-8\\pi t}+e^{-4\\pi t}+e^{4\\pi t}+\\frac 32 e^{8\\pi t} $$\n",
    "D'où \n",
    "$$c_n=\\left\\{\\begin{array}{ll} 1 & \\mbox{ si } n=\\pm 2 \\\\ \\frac 32 & \\mbox{ si } n=\\pm 4 \\\\ 0 & \\mbox{ sinon}  \\end{array} \\right.$$ "
   ],
   "attachments":{
    
   },
   "metadata":{
    "datalore":{
     "node_id":"AIdsjv8BZeGw70L4axnw6w",
     "type":"MD",
     "hide_input_from_viewers":false,
     "hide_output_from_viewers":false,
     "report_properties":{
      "rowId":"RtpABBkJOLBp1iR2hLK6Ui"
     }
    }
   }
  },
  {
   "cell_type":"markdown",
   "source":[
    "<ol start=3>\n",
    "<li> On définit $\\tilde{x}:n\\mapsto \\tilde{x}[n]=x(t_n)$ le signal en temps discret résultant de l'échantillonnage de $x$ à la fréquence $f_e=8$ Hz. Quel est le pas de discrétisation correspondant à une telle fréquence?\n",
    "<\/ol>"
   ],
   "attachments":{
    
   },
   "metadata":{
    "datalore":{
     "node_id":"4HXfumOF4m4IbGkdu21rWP",
     "type":"MD",
     "hide_input_from_viewers":false,
     "hide_output_from_viewers":false,
     "report_properties":{
      "rowId":"RtpABBkJOLBp1iR2hLK6Ui"
     }
    }
   }
  },
  {
   "cell_type":"markdown",
   "source":[
    "$$Te=\\frac 1{f_e}$$"
   ],
   "attachments":{
    
   },
   "metadata":{
    "datalore":{
     "node_id":"Dg1dXGClOUczcQxaUJClcD",
     "type":"MD",
     "hide_input_from_viewers":false,
     "hide_output_from_viewers":false,
     "report_properties":{
      "rowId":"RtpABBkJOLBp1iR2hLK6Ui"
     }
    }
   }
  },
  {
   "cell_type":"markdown",
   "source":[
    "<ol start=4>\n",
    "<li> Calculer le nombre d'échantillons $N$ sur une période en fonction de $T$ et $f_e$.\n",
    "<\/ol>"
   ],
   "attachments":{
    
   },
   "metadata":{
    "datalore":{
     "node_id":"x17yO11QOkSYaIh4LFZr0r",
     "type":"MD",
     "hide_input_from_viewers":false,
     "hide_output_from_viewers":false,
     "report_properties":{
      "rowId":"RtpABBkJOLBp1iR2hLK6Ui"
     }
    }
   }
  },
  {
   "cell_type":"markdown",
   "source":[
    "$$N=fe\\times T$$"
   ],
   "attachments":{
    
   },
   "metadata":{
    "datalore":{
     "node_id":"NkJnNXbAiZM3QIs9vdrdWC",
     "type":"MD",
     "hide_input_from_viewers":false,
     "hide_output_from_viewers":false,
     "report_properties":{
      "rowId":"RtpABBkJOLBp1iR2hLK6Ui"
     }
    }
   }
  },
  {
   "cell_type":"markdown",
   "source":[
    "<ol start=5>\n",
    "<li> Dessiner sur le même graphique la fonction $x(t)$ sur l'intervalle $[0,T]$ et le signal précédent $\\tilde{x}[n]$ tronqué à $N$ échantillons correspondant aux temps $t_n$, $n=0,...,N-1$. On utilisera les deux fonctions python: <b> plot<\/b> et <b> stem<\/b>  de la bibliothèque <b> matplotlib.pyplot<\/b> .\n",
    "<\/ol>"
   ],
   "attachments":{
    
   },
   "metadata":{
    "datalore":{
     "node_id":"YZk4vzPhgRPQWZSG2ZRkPm",
     "type":"MD",
     "hide_input_from_viewers":false,
     "hide_output_from_viewers":false,
     "report_properties":{
      "rowId":"RtpABBkJOLBp1iR2hLK6Ui"
     }
    }
   }
  },
  {
   "cell_type":"code",
   "source":[
    "import numpy as np\n",
    "import matplotlib.pyplot as plt\n",
    "from numpy.fft import *\n",
    "pi=np.pi\n",
    "\n",
    "def x(t):\n",
    "    return 2*np.cos(4*pi*t)+3*np.cos(8*pi*t)\n",
    "T=1\/2\n",
    "fe=8\n",
    "Te=1\/fe\n",
    "N=int(fe*T)\n",
    "tk=np.arange(0,T,Te)\n",
    "plt.stem(tk,x(tk))\n",
    "t=np.arange(0,T,0.01)\n",
    "plt.plot(t,x(t),color='r')\n",
    "plt.show()"
   ],
   "execution_count":null,
   "outputs":[
    {
     "data":{
      "image\/png":"[encoded data removed]"
     },
     "metadata":{
      "image\/png":{
       
      }
     },
     "output_type":"display_data"
    }
   ],
   "metadata":{
    "datalore":{
     "node_id":"3y9FjMr22idfb30tFTAR3a",
     "type":"CODE",
     "hide_input_from_viewers":false,
     "hide_output_from_viewers":false,
     "report_properties":{
      "rowId":"RtpABBkJOLBp1iR2hLK6Ui"
     }
    }
   }
  },
  {
   "cell_type":"markdown",
   "source":[
    "<ol start=6>\n",
    "<li> Calculer et tracer la transformée de Fourier discrète (TFD) du signal évalué aux temps $t_n$, $n=0,...,N-1$. Comparer avec le spectre de la question 2.\n",
    "<\/ol>"
   ],
   "attachments":{
    
   },
   "metadata":{
    "datalore":{
     "node_id":"u2v7PMyROZZWkTReBkJdT3",
     "type":"MD",
     "hide_input_from_viewers":false,
     "hide_output_from_viewers":false,
     "report_properties":{
      "rowId":"RtpABBkJOLBp1iR2hLK6Ui"
     }
    }
   }
  },
  {
   "cell_type":"code",
   "source":[
    "s=x(tk)\n",
    "S=fft(s)\/N\n",
    "f=fftfreq(N,Te)\n",
    "plt.stem(f,np.real(S))\n",
    "plt.show()"
   ],
   "execution_count":null,
   "outputs":[
    {
     "data":{
      "image\/png":"[encoded data removed]"
     },
     "metadata":{
      "image\/png":{
       
      }
     },
     "output_type":"display_data"
    }
   ],
   "metadata":{
    "datalore":{
     "node_id":"phGrAWRSbU9CY3yLn1IcV6",
     "type":"CODE",
     "hide_input_from_viewers":false,
     "hide_output_from_viewers":false,
     "report_properties":{
      "rowId":"RtpABBkJOLBp1iR2hLK6Ui"
     }
    }
   }
  },
  {
   "cell_type":"markdown",
   "source":[
    "On ne retrouve pas exactement le même spectre que celui de la question 2."
   ],
   "attachments":{
    
   },
   "metadata":{
    "datalore":{
     "node_id":"DIeXSamZ6gqd8B5jOueFHq",
     "type":"MD",
     "hide_input_from_viewers":false,
     "hide_output_from_viewers":false,
     "report_properties":{
      "rowId":"RtpABBkJOLBp1iR2hLK6Ui"
     }
    }
   }
  },
  {
   "cell_type":"markdown",
   "source":[
    "<ol start=7>\n",
    "<li> Refaire les questions 4 et 5 pour $fe=10, 12, 20, ...$\n",
    "<\/ol>"
   ],
   "attachments":{
    
   },
   "metadata":{
    "datalore":{
     "node_id":"1uzPfbLzh9V3ThuWaN6Omg",
     "type":"MD",
     "hide_input_from_viewers":false,
     "hide_output_from_viewers":false,
     "report_properties":{
      "rowId":"RtpABBkJOLBp1iR2hLK6Ui"
     }
    }
   }
  },
  {
   "cell_type":"code",
   "source":[
    "fe=16\n",
    "Te=1\/fe\n",
    "N=int(fe*T)\n",
    "tk=np.arange(0,T,Te)\n",
    "plt.stem(tk,x(tk))\n",
    "t=np.arange(0,T,0.01)\n",
    "plt.plot(t,x(t),color='r')\n",
    "plt.show()\n",
    "s=x(tk)\n",
    "S=fft(s)\/N\n",
    "f=fftfreq(N,Te)\n",
    "plt.stem(f,np.real(S))\n",
    "plt.show()"
   ],
   "execution_count":null,
   "outputs":[
    {
     "name":"stdout",
     "text":[
      "\n"
     ],
     "output_type":"stream"
    },
    {
     "name":"stderr",
     "text":[
      "\n"
     ],
     "output_type":"stream"
    },
    {
     "data":{
      "image\/png":"[encoded data removed]"
     },
     "metadata":{
      "image\/png":{
       
      }
     },
     "output_type":"display_data"
    },
    {
     "data":{
      "image\/png":"[encoded data removed]"
     },
     "metadata":{
      "image\/png":{
       
      }
     },
     "output_type":"display_data"
    }
   ],
   "metadata":{
    "datalore":{
     "node_id":"oGv3ClZhgBMd2A61gDQrif",
     "type":"CODE",
     "hide_input_from_viewers":false,
     "hide_output_from_viewers":false,
     "report_properties":{
      "rowId":"RtpABBkJOLBp1iR2hLK6Ui"
     }
    }
   }
  },
  {
   "cell_type":"markdown",
   "source":[
    "On retrouve bien le même spectre que celui de la question 2."
   ],
   "attachments":{
    
   },
   "metadata":{
    "datalore":{
     "node_id":"4eSgiUxuVKHi07d1EoyokS",
     "type":"MD",
     "hide_input_from_viewers":false,
     "hide_output_from_viewers":false,
     "report_properties":{
      "rowId":"RtpABBkJOLBp1iR2hLK6Ui"
     }
    }
   }
  },
  {
   "cell_type":"markdown",
   "source":[
    "# Décalage fréquentiel\n",
    "Soit $x$ le signal continu défini par $x(t)=\\frac{1}{1+t^2}$. Illustrer la propriété de décalage fréquentiel de la TF en représentant le module de la TF de\n",
    "$$x(t) \\times e^{i2\\pi f_0t}$$\n",
    "avec $f_0=20$ Hz. Représenter le module, la partie réelle et la partie imaginaire du signal temporel."
   ],
   "attachments":{
    
   },
   "metadata":{
    "datalore":{
     "node_id":"IEaa2QqeNQsJZwG8z5lOgD",
     "type":"MD",
     "hide_input_from_viewers":false,
     "hide_output_from_viewers":false,
     "report_properties":{
      "rowId":"RtpABBkJOLBp1iR2hLK6Ui"
     }
    }
   }
  },
  {
   "cell_type":"code",
   "source":[
    "import numpy as np\n",
    "import matplotlib.pyplot as plt\n",
    "from numpy.fft import *\n",
    "pi=np.pi\n",
    "a=5\n",
    "def x(t):\n",
    "    return 1\/(1+t**2)\n",
    "\n",
    "def s(t):\n",
    "    return x(t)*np.exp(2*1j*pi*20*t)\n",
    "\n",
    "Te=0.01\n",
    "\n",
    "t=np.arange(-a\/2,a\/2+Te,Te)\n",
    "N=len(t)\n",
    "sn=s(t)\n",
    "xn=x(t)\n",
    "s_shift=fftshift(sn)\n",
    "x_shift=fftshift(xn)\n",
    "S=fft(s_shift)\/N\n",
    "X=fft(x_shift)\/N\n",
    "f = fftfreq(N,Te)\n",
    "plt.plot(f, np.abs(S),color='r')\n",
    "plt.plot(f, np.abs(X),color='b')\n",
    "plt.show()"
   ],
   "execution_count":null,
   "outputs":[
    {
     "data":{
      "image\/png":"[encoded data removed]"
     },
     "metadata":{
      "image\/png":{
       
      }
     },
     "output_type":"display_data"
    }
   ],
   "metadata":{
    "datalore":{
     "node_id":"b5OBXSInov9Y8XZxSdl2Cc",
     "type":"CODE",
     "hide_input_from_viewers":false,
     "hide_output_from_viewers":false,
     "report_properties":{
      "rowId":"RtpABBkJOLBp1iR2hLK6Ui"
     }
    }
   }
  }
 ],
 "metadata":{
  "kernelspec":{
   "display_name":"Python",
   "language":"python",
   "name":"python"
  },
  "datalore":{
   "computation_mode":"JUPYTER",
   "package_manager":"pip",
   "base_environment":"default",
   "packages":[
    
   ],
   "report_row_ids":[
    "RtpABBkJOLBp1iR2hLK6Ui"
   ],
   "version":3
  }
 },
 "nbformat":4,
 "nbformat_minor":4
}